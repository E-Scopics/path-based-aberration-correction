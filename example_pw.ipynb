{
 "cells": [
  {
   "cell_type": "code",
   "execution_count": null,
   "id": "6cb426b4",
   "metadata": {},
   "outputs": [],
   "source": [
    "import numpy as np\n",
    "import jax.numpy as jnp\n",
    "from jax import jit\n",
    "from tqdm import tqdm\n",
    "import matplotlib.pyplot as plt\n",
    "from jaxopt import OptaxSolver\n",
    "import optax\n",
    "import time\n",
    "\n",
    "from utils import beamform_pw, coherence_pw"
   ]
  },
  {
   "cell_type": "code",
   "execution_count": null,
   "id": "2336a5f0",
   "metadata": {},
   "outputs": [],
   "source": [
    "#---- Load Data ----#\n",
    "\n",
    "def load_simu(path):\n",
    "    results = np.load(path, allow_pickle=True).item()\n",
    "    iq_datas = results['raw_data']\n",
    "    pitch = results['pitch']\n",
    "    excitation_frequency = results['excitation_frequency']\n",
    "    sampling_frequency = results['sampling_frequency']\n",
    "    demod_freq = results['demod_freq']\n",
    "    angles = results['angles'].reshape((-1, 1))\n",
    "    \n",
    "    return jnp.array(iq_datas).astype(jnp.complex64), \\\n",
    "        jnp.array(angles), excitation_frequency, demod_freq, sampling_frequency, \\\n",
    "        1.54, 128, pitch\n",
    "\n",
    "\n",
    "name = 'simulation_light_41_angles.npy'\n",
    "path = 'data/' + name\n",
    "iq_datas, angles, excitation_frequency, demod_freq, sampling_frequency, c, n_elem, pitch \\\n",
    "    = load_simu(path)\n",
    "\n",
    "N_tx = n_elem\n",
    "N_rx = n_elem\n",
    "\n",
    "probe_x = jnp.arange(n_elem) * pitch\n",
    "probe_x = (probe_x - probe_x.mean()).reshape((-1, 1))"
   ]
  },
  {
   "cell_type": "code",
   "execution_count": null,
   "id": "ba1a4bfe",
   "metadata": {},
   "outputs": [],
   "source": [
    "# Parameters definition\n",
    "\n",
    "# aberration grid definition\n",
    "\n",
    "d0, dd, nd = -0.5, 1/32, 32                # Directions, in rad\n",
    "eps_d = (jnp.arange(nd)*dd + d0).reshape((-1, 1))\n",
    "\n",
    "x0, dx, nx = -64*pitch, 128*pitch/64, 64   # Positions, in mm\n",
    "eps_x = (jnp.arange(nx)*dx + x0).reshape((1, -1))\n",
    "\n",
    "h_t = jnp.zeros((1, nd, nx))      # Grids\n",
    "h_phi = jnp.zeros((1, nd, nx))\n",
    "h = jnp.concatenate((h_t, h_phi), axis=0)\n",
    "\n",
    "# Targets definition (grid on which the coherence is evaluated, in mm)\n",
    "x = jnp.arange(100) * 0.3 - 15\n",
    "z = jnp.arange(100) * 0.3 + 15\n",
    "x, z = jnp.meshgrid(x, z, indexing='ij')\n",
    "x = x.reshape((1, -1))\n",
    "z = z.reshape((1, -1))\n",
    "\n",
    "# Apodizations (correspond to F-number of 1)\n",
    "apod_rx = (jnp.abs(jnp.atan((x-probe_x) / z)) < 0.5)\n",
    "apod_tx = 1\n",
    "\n",
    "@jit\n",
    "def tv(h_t):\n",
    "    return jnp.mean(jnp.abs(jnp.diff(h_t, axis=0))**2) + jnp.mean(jnp.abs(jnp.diff(h_t, axis=1))**2)\n",
    "    \n",
    "@jit\n",
    "def loss(h):\n",
    "    coh = coherence_pw(iq_datas, h[0], h[1], d0, dd, nd, x0, dx, nx,\n",
    "                    probe_x, x, z, eps_d, eps_x, apod_tx, apod_rx,\n",
    "                    sampling_frequency, demod_freq, angles)\n",
    "    return coh + 5e-1*tv(h[0])\n",
    "\n",
    "@jit\n",
    "def display_img(h):\n",
    "    # HD display\n",
    "    x_hd = jnp.arange(200) * 0.15 - 15\n",
    "    z_hd = jnp.arange(200) * 0.15 + 15\n",
    "    x_hd, z_hd = jnp.meshgrid(x_hd, z_hd, indexing='ij')\n",
    "    x_hd = x_hd.reshape((1, -1))\n",
    "    z_hd = z_hd.reshape((1, -1))\n",
    "    apod_rx_hd = (jnp.abs(jnp.atan((x_hd-probe_x) / z_hd)) < 0.5)\n",
    "    apod_tx_hd = 1\n",
    "    \n",
    "    return beamform_pw(iq_datas, h[0], h[1], d0, dd, nd, x0, dx, nx,\n",
    "                    probe_x, x_hd, z_hd, eps_d, eps_x, apod_tx_hd, apod_rx_hd,\n",
    "                    sampling_frequency, demod_freq, angles)"
   ]
  },
  {
   "cell_type": "code",
   "execution_count": null,
   "id": "638aafbb",
   "metadata": {},
   "outputs": [],
   "source": [
    "# Display Aberrated Image\n",
    "\n",
    "img = display_img(h)\n",
    "plt.imshow(20*jnp.log10(jnp.abs(img)).reshape((200, 200)).T, cmap='gray', clim=(5, 65))"
   ]
  },
  {
   "cell_type": "code",
   "execution_count": null,
   "id": "34624a57",
   "metadata": {},
   "outputs": [],
   "source": [
    "# Prepare and Compile\n",
    "opt = OptaxSolver(opt=optax.adam(jnp.array([2e-2, 1e-2]).reshape((-1, 1, 1))),\n",
    "                      fun=loss)  # Stochastic optimizer\n",
    "state = opt.init_state(h)\n",
    "h, state = opt.update(h, state)"
   ]
  },
  {
   "cell_type": "code",
   "execution_count": null,
   "id": "5dbb8cc2",
   "metadata": {},
   "outputs": [],
   "source": [
    "# Run\n",
    "for i in tqdm(range(100), ncols=100):\n",
    "    h, state = opt.update(h, state)"
   ]
  },
  {
   "cell_type": "code",
   "execution_count": null,
   "id": "58ab2c63",
   "metadata": {},
   "outputs": [],
   "source": [
    "# Display Corrected Image\n",
    "img = display_img(h)\n",
    "plt.imshow(20*jnp.log10(jnp.abs(img)).reshape((200, 200)).T, cmap='gray', clim=(5, 65))"
   ]
  },
  {
   "cell_type": "code",
   "execution_count": null,
   "id": "54ef980e",
   "metadata": {},
   "outputs": [],
   "source": []
  }
 ],
 "metadata": {
  "kernelspec": {
   "display_name": "Python 3 (ipykernel)",
   "language": "python",
   "name": "python3"
  },
  "language_info": {
   "codemirror_mode": {
    "name": "ipython",
    "version": 3
   },
   "file_extension": ".py",
   "mimetype": "text/x-python",
   "name": "python",
   "nbconvert_exporter": "python",
   "pygments_lexer": "ipython3",
   "version": "3.10.7"
  }
 },
 "nbformat": 4,
 "nbformat_minor": 5
}
